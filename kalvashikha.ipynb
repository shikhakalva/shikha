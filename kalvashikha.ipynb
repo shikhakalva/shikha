{
  "nbformat": 4,
  "nbformat_minor": 0,
  "metadata": {
    "colab": {
      "name": "kalvashikha.ipynb",
      "provenance": [],
      "authorship_tag": "ABX9TyOq+l6hvWW8Q6X2YWeX+DBT",
      "include_colab_link": true
    },
    "kernelspec": {
      "name": "python3",
      "display_name": "Python 3"
    },
    "language_info": {
      "name": "python"
    }
  },
  "cells": [
    {
      "cell_type": "markdown",
      "metadata": {
        "id": "view-in-github",
        "colab_type": "text"
      },
      "source": [
        "<a href=\"https://colab.research.google.com/github/shikhakalva/shikha/blob/main/kalvashikha.ipynb\" target=\"_parent\"><img src=\"https://colab.research.google.com/assets/colab-badge.svg\" alt=\"Open In Colab\"/></a>"
      ]
    },
    {
      "cell_type": "code",
      "execution_count": 13,
      "metadata": {
        "id": "jZ6gqj2HhNSc",
        "outputId": "56dd84dc-0b40-487f-da15-029c36f9f002",
        "colab": {
          "base_uri": "https://localhost:8080/"
        }
      },
      "outputs": [
        {
          "output_type": "stream",
          "name": "stdout",
          "text": [
            "shikha\n",
            "['how you doin?', 'shikha', 12, 34, 3.5]\n",
            "['how you doin?', 'shikha', 12, 34, 3.5, 69]\n",
            "['how you doin?', 'shikha', 12, 34, 3.5, 69, 23, 45, 67]\n",
            "[67, 45, 23, 69, 3.5, 34, 12, 'shikha', 'how you doin?']\n",
            "[67, 45, 23, 3.5, 34, 12, 'shikha', 'how you doin?']\n"
          ]
        }
      ],
      "source": [
        "print(\"shikha\")\n",
        "neha=[\"how you doin?\", \"shikha\", 12,34,3.5]\n",
        "print(neha)\n",
        "neha.append(69)\n",
        "print(neha)\n",
        "neha.extend([23,45,67])\n",
        "print(neha)\n",
        "neha.reverse()\n",
        "print(neha)\n",
        "neha.remove(69)\n",
        "print(neha)"
      ]
    },
    {
      "cell_type": "code",
      "source": [
        "shikha=[12,45,69,0,12,3]\n",
        "print(shikha)\n",
        "shikha.sort()\n",
        "print(shikha)"
      ],
      "metadata": {
        "colab": {
          "base_uri": "https://localhost:8080/"
        },
        "id": "qA3e--fukQrv",
        "outputId": "41769e07-1f86-41b3-a776-a249cffdbe8a"
      },
      "execution_count": 11,
      "outputs": [
        {
          "output_type": "stream",
          "name": "stdout",
          "text": [
            "[12, 45, 69, 0, 12, 3]\n",
            "[0, 3, 12, 12, 45, 69]\n"
          ]
        }
      ]
    },
    {
      "cell_type": "code",
      "source": [
        ""
      ],
      "metadata": {
        "id": "l0E1yScDkeqc"
      },
      "execution_count": null,
      "outputs": []
    }
  ]
}