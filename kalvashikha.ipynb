{
  "nbformat": 4,
  "nbformat_minor": 0,
  "metadata": {
    "colab": {
      "name": "kalvashikha.ipynb",
      "provenance": [],
      "authorship_tag": "ABX9TyOho8YXswC7vjCQJpXQyni6",
      "include_colab_link": true
    },
    "kernelspec": {
      "name": "python3",
      "display_name": "Python 3"
    },
    "language_info": {
      "name": "python"
    }
  },
  "cells": [
    {
      "cell_type": "markdown",
      "metadata": {
        "id": "view-in-github",
        "colab_type": "text"
      },
      "source": [
        "<a href=\"https://colab.research.google.com/github/shikhakalva/shikha/blob/main/kalvashikha.ipynb\" target=\"_parent\"><img src=\"https://colab.research.google.com/assets/colab-badge.svg\" alt=\"Open In Colab\"/></a>"
      ]
    },
    {
      "cell_type": "code",
      "execution_count": 1,
      "metadata": {
        "id": "jZ6gqj2HhNSc",
        "outputId": "f2a58619-1aed-4454-a666-ab069b64512b",
        "colab": {
          "base_uri": "https://localhost:8080/"
        }
      },
      "outputs": [
        {
          "output_type": "stream",
          "name": "stdout",
          "text": [
            "shikha\n",
            "['how you doin?', 'shikha', 12, 34, 3.5]\n",
            "['how you doin?', 'shikha', 12, 34, 3.5, 69]\n",
            "['how you doin?', 'shikha', 12, 34, 3.5, 69, 23, 45, 67]\n",
            "[67, 45, 23, 69, 3.5, 34, 12, 'shikha', 'how you doin?']\n",
            "[67, 45, 23, 3.5, 34, 12, 'shikha', 'how you doin?']\n"
          ]
        }
      ],
      "source": [
        "print(\"shikha\")\n",
        "neha=[\"how you doin?\", \"shikha\", 12,34,3.5]\n",
        "print(neha)\n",
        "neha.append(69)\n",
        "print(neha)\n",
        "neha.extend([23,45,67])\n",
        "print(neha)\n",
        "neha.reverse()\n",
        "print(neha)\n",
        "neha.remove(69)\n",
        "print(neha)"
      ]
    },
    {
      "cell_type": "code",
      "source": [
        "shikha=[12,45,69,0,12,3]\n",
        "print(shikha)\n",
        "shikha.sort()\n",
        "print(shikha)"
      ],
      "metadata": {
        "colab": {
          "base_uri": "https://localhost:8080/"
        },
        "id": "qA3e--fukQrv",
        "outputId": "f28a65c7-5402-4a4b-a2c1-0a2f27ecacfe"
      },
      "execution_count": 2,
      "outputs": [
        {
          "output_type": "stream",
          "name": "stdout",
          "text": [
            "[12, 45, 69, 0, 12, 3]\n",
            "[0, 3, 12, 12, 45, 69]\n"
          ]
        }
      ]
    },
    {
      "cell_type": "code",
      "source": [
        "MySet=set(\"banana\")\n",
        "print('a' in MySet)\n",
        "print('n' not in MySet)"
      ],
      "metadata": {
        "id": "l0E1yScDkeqc",
        "colab": {
          "base_uri": "https://localhost:8080/"
        },
        "outputId": "311af64f-081e-4783-d1e5-d0e0d6037c66"
      },
      "execution_count": 4,
      "outputs": [
        {
          "output_type": "stream",
          "name": "stdout",
          "text": [
            "True\n",
            "False\n"
          ]
        }
      ]
    },
    {
      "cell_type": "code",
      "source": [
        "A={2,4,7,9}\n",
        "B={1,3,6,8}\n",
        "print('Union              = ', A | B)\n",
        "print('Intersection       = ', A & B)\n",
        "print('Difference         = ', A - B)\n",
        "print('Symmentric Diff    = ', A ^ B)"
      ],
      "metadata": {
        "colab": {
          "base_uri": "https://localhost:8080/"
        },
        "id": "b1c4G5fmPbtx",
        "outputId": "f981b052-7def-424f-baa0-e458738fcdb2"
      },
      "execution_count": 6,
      "outputs": [
        {
          "output_type": "stream",
          "name": "stdout",
          "text": [
            "Union              =  {1, 2, 3, 4, 6, 7, 8, 9}\n",
            "Intersection       =  set()\n",
            "Difference         =  {9, 2, 4, 7}\n",
            "Symmentric Diff    =  {1, 2, 3, 4, 6, 7, 8, 9}\n"
          ]
        }
      ]
    },
    {
      "cell_type": "code",
      "source": [
        "number = {1,2,3,4,5,6,7,8,9,10}\n",
        "odd    = {1,3,5,7,9}\n",
        "even   = {2,4,6,8,10}\n",
        "print(odd.isdisjoint(even))\n",
        "print(number.issuperset(odd))\n",
        "print(odd.issuperset(number))\n",
        "print(odd.issubset(number))"
      ],
      "metadata": {
        "colab": {
          "base_uri": "https://localhost:8080/"
        },
        "id": "geHqCZA7RAWg",
        "outputId": "a8cd9ad9-dc9f-44cb-e05a-61d4d06d84de"
      },
      "execution_count": 10,
      "outputs": [
        {
          "output_type": "stream",
          "name": "stdout",
          "text": [
            "True\n",
            "True\n",
            "False\n",
            "True\n"
          ]
        }
      ]
    },
    {
      "cell_type": "code",
      "source": [
        "StudentList=['mahesh babu','allu arjun','NTR','samantha','kajal','vijay','rakul']\n",
        "PlacedStudentList=[\"samantha\",\"kajal\",\"rakul\"]\n",
        "notPlacedStudentList=set(StudentList)-set(PlacedStudentList)\n",
        "print(\"Student yet to get a job \\n\", notPlacedStudentList)\n"
      ],
      "metadata": {
        "colab": {
          "base_uri": "https://localhost:8080/"
        },
        "id": "YyAOgW55R0m4",
        "outputId": "786d6539-4dad-4ae8-8541-b82500f2d45d"
      },
      "execution_count": 11,
      "outputs": [
        {
          "output_type": "stream",
          "name": "stdout",
          "text": [
            "Student yet to get a job \n",
            " {'mahesh babu', 'NTR', 'allu arjun', 'vijay'}\n"
          ]
        }
      ]
    }
  ]
}